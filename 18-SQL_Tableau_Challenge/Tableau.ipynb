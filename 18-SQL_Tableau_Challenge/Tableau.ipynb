{
 "cells": [
  {
   "cell_type": "code",
   "execution_count": 1,
   "id": "93c7cda4-d6d1-490a-8078-b03553e3bc6e",
   "metadata": {},
   "outputs": [],
   "source": [
    "import pandas as pd \n",
    "from pathlib import Path "
   ]
  },
  {
   "cell_type": "code",
   "execution_count": 2,
   "id": "467bd510-1ee1-49c0-bbaf-3e09a4799b98",
   "metadata": {},
   "outputs": [],
   "source": [
    "# Suppress FutureWarning messages\n",
    "import warnings\n",
    "\n",
    "warnings.simplefilter(action='ignore', category=FutureWarning)"
   ]
  },
  {
   "cell_type": "code",
   "execution_count": null,
   "id": "85e6e01e-f69a-46f2-bdeb-12578ddb52dd",
   "metadata": {},
   "outputs": [],
   "source": [
    "# variable \"country_continent_csv\" is assigned to the Path object, representing the file path to 'countryContinent.csv'\n",
    "# variable \"global_inflation_csv\" is assigned to the Path object, representing the file path to 'Global_Dataset_of_Inflation.csv'\n",
    "\n",
    "citibike_202406_csv = Path(\"Resources/JC-202406-citibike-tripdata.csv\")\n",
    "citibike_202407_csv = Path(\"Resources/JC-202407-citibike-tripdata.csv\")\n",
    "\n",
    " = pd.read_csv(country_continent_csv, encoding=\"Latin1\")\n",
    "global_inflation = pd.read_csv(global_inflation_csv, encoding=\"Latin1\")\n",
    "\n",
    "country_continent.head()"
   ]
  }
 ],
 "metadata": {
  "kernelspec": {
   "display_name": "Python 3 (ipykernel)",
   "language": "python",
   "name": "python3"
  },
  "language_info": {
   "codemirror_mode": {
    "name": "ipython",
    "version": 3
   },
   "file_extension": ".py",
   "mimetype": "text/x-python",
   "name": "python",
   "nbconvert_exporter": "python",
   "pygments_lexer": "ipython3",
   "version": "3.10.14"
  }
 },
 "nbformat": 4,
 "nbformat_minor": 5
}
